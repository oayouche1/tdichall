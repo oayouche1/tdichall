{
 "cells": [
  {
   "cell_type": "code",
   "execution_count": 50,
   "metadata": {},
   "outputs": [
    {
     "name": "stdout",
     "output_type": "stream",
     "text": [
      "7\n",
      "9702\n",
      "7934293301\n",
      "4403056638\n",
      "1926411550\n",
      "8051788353\n"
     ]
    }
   ],
   "source": [
    "m = 10**10 + 7\n",
    "def chall_section3(n, k, j) :\n",
    "  if (j==1):\n",
    "    return ((k-1)*((pow(k-1,n-2) - pow(-1,n-2))//k)) % m\n",
    "  else:\n",
    "    return ((pow(k-1,n-1)-pow(-1,n-1))//k) %m\n",
    "\n",
    "q1 = chall_section3(4, 4, 2)\n",
    "print(q1)\n",
    "q2 = chall_section3(4, 100, 1)\n",
    "print(q2)\n",
    "q3 = chall_section3(100, 100, 1)\n",
    "print(q3)\n",
    "q4 = chall_section3(347, 2281, 829)\n",
    "print(q4)\n",
    "q5 = chall_section3(int(1.26*pow(10,6)), int(4.17*pow(10,6)), 1)\n",
    "print(q5)\n",
    "q6 = chall_section3(int(pow(10,7)),int(pow(10,12)), 829)\n",
    "print(q6)\n"
   ]
  },
  {
   "cell_type": "code",
   "execution_count": null,
   "metadata": {},
   "outputs": [],
   "source": []
  }
 ],
 "metadata": {
  "kernelspec": {
   "display_name": "Python 3",
   "language": "python",
   "name": "python3"
  },
  "language_info": {
   "codemirror_mode": {
    "name": "ipython",
    "version": 3
   },
   "file_extension": ".py",
   "mimetype": "text/x-python",
   "name": "python",
   "nbconvert_exporter": "python",
   "pygments_lexer": "ipython3",
   "version": "3.7.3"
  }
 },
 "nbformat": 4,
 "nbformat_minor": 2
}
